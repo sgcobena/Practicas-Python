{
 "cells": [
  {
   "cell_type": "markdown",
   "metadata": {},
   "source": [
    "Programación para *Data Science*\n",
    "============================\n",
    "\n",
    "Breve introducción a la programación en Python\n",
    "-----------------------------------------------------\n",
    "\n",
    "En este Notebook encontraréis conjuntos de ejercicios a prácticar con los fundamentos de Python. Hay que entregarlo en la forma\n",
    "*nombre_apellidos_datasci1_python_entrega_fecha* en vuestro repositorio GitHub y subirlo."
   ]
  },
  {
   "cell_type": "markdown",
   "metadata": {},
   "source": [
    "## Prácticamos\n",
    "\n",
    "Los tres primeros ejercios son para prácticar un poco. Tenemos la solución abajo, pero intenta esforzarte! Si necesita ayuda tienes los recursos disponible en tu carpeta RECURSOS de Python."
   ]
  },
  {
   "cell_type": "markdown",
   "metadata": {},
   "source": [
    "### Ejercicio 1 \n",
    "\n",
    "Escribid una expresión en Python que muestre la siguiente salida por pantalla:"
   ]
  },
  {
   "cell_type": "raw",
   "metadata": {},
   "source": [
    "Hello\n",
    "\n",
    "    Python"
   ]
  },
  {
   "cell_type": "markdown",
   "metadata": {},
   "source": [
    "(fijaros que hay un salto de línea entre las dos palabras y que la palabra \"Python\" está tabulada hacía la derecha)"
   ]
  },
  {
   "cell_type": "code",
   "execution_count": 1,
   "metadata": {},
   "outputs": [
    {
     "name": "stdout",
     "output_type": "stream",
     "text": [
      "Hello\n",
      "            Python\n"
     ]
    }
   ],
   "source": [
    "# Respuesta Ejercicio 1\n",
    "print(\"\"\"Hello\n",
    "            Python\"\"\")"
   ]
  },
  {
   "cell_type": "markdown",
   "metadata": {},
   "source": [
    "### Ejercicio 2\n",
    "\n",
    "Escribid un programa que defina una lista, los valores de la cual sean los nombres de los días de la semana. Haced que muestre el primero y el penúltimo día de la semana."
   ]
  },
  {
   "cell_type": "code",
   "execution_count": 2,
   "metadata": {},
   "outputs": [
    {
     "name": "stdout",
     "output_type": "stream",
     "text": [
      "El primer dia de la semana es el Lunes y el penultimo dia de la semana es el Sabado\n"
     ]
    }
   ],
   "source": [
    "# Respuesta\n",
    "lst = [\"Lunes\", \"Martes\", \"Miercoles\", \"Jueves\", \"Viernes\", \"Sabado\", \"Domingo\"]\n",
    "primer_dia = lst[0]\n",
    "penultimo_dia = lst[-2]\n",
    "print(\"El primer dia de la semana es el \" + primer_dia + \" y el penultimo dia de la semana es el \" + penultimo_dia)"
   ]
  },
  {
   "cell_type": "markdown",
   "metadata": {},
   "source": [
    "### Ejercicio 3\n",
    "\n",
    "Python dispone de un _idiom_ muy útil conocido como _list comprehensions_. Buscad documentación sobre este _idiom_ y proporcionad una expresión que devuelva una lista de los cuadrados de los 10 primeros números naturales."
   ]
  },
  {
   "cell_type": "code",
   "execution_count": 3,
   "metadata": {},
   "outputs": [
    {
     "name": "stdout",
     "output_type": "stream",
     "text": [
      "[0, 1, 4, 9, 16, 25, 36, 49, 64, 81, 100]\n"
     ]
    }
   ],
   "source": [
    "# Respuesta\n",
    "lst1 = list(range(11))\n",
    "square = [number **2 for number in lst1]\n",
    "print(square)"
   ]
  },
  {
   "cell_type": "markdown",
   "metadata": {},
   "source": [
    "---\n",
    "\n",
    "## Ejercicios y preguntas teóricas para la práctica 1\n",
    "\n",
    "A continuación encontraréis los **ejercicios y preguntas teóricas que debéis completar en esta práctica** y que forman parte de la evaluación de esta unidad.\n",
    "\n",
    "Podéis encontrar en la documentación oficial de *string* funciones que os pueden ser de ayuda para completar los ejercicios:\n",
    "<https://docs.python.org/2/library/string.html>."
   ]
  },
  {
   "cell_type": "markdown",
   "metadata": {},
   "source": [
    "### Pregunta 1\n",
    "\n",
    "¿Cuál es el valor final de a, b y c (atención a los tipos de número decimal y entero)? **(1 punt)**\n",
    "\n",
    "a = 5 * 11\n",
    "\n",
    "b = a / 2.\n",
    "\n",
    "c, a = b * 2, b + 1"
   ]
  },
  {
   "cell_type": "markdown",
   "metadata": {},
   "source": [
    "**Respuesta**"
   ]
  },
  {
   "cell_type": "markdown",
   "metadata": {},
   "source": [
    "Escribid vuestra respuesta aquí."
   ]
  },
  {
   "cell_type": "code",
   "execution_count": 4,
   "metadata": {},
   "outputs": [
    {
     "name": "stdout",
     "output_type": "stream",
     "text": [
      "55\n",
      "27.5\n",
      "54.735\n"
     ]
    }
   ],
   "source": [
    "# Respuesta\n",
    "a = 5 * 11\n",
    "b = a / 2\n",
    "a1 = a*0.01\n",
    "c = (b*2 + ((b+1)*0.01)) - a1\n",
    "print(a)\n",
    "print(b)\n",
    "print(c)"
   ]
  },
  {
   "cell_type": "code",
   "execution_count": null,
   "metadata": {},
   "outputs": [],
   "source": []
  },
  {
   "cell_type": "markdown",
   "metadata": {},
   "source": [
    "### Pregunta 2\n",
    "\n",
    "Exlicad brevemente que es la _Python Standard Library_ y mencionad tres ejemplos de paquetes incluidos en esta librería, añadiendo una breve explicación de cada uno de ellos. **(1 punt)**\n",
    "\n",
    "**Respuesta:**"
   ]
  },
  {
   "cell_type": "markdown",
   "metadata": {},
   "source": [
    "Es una librería que contiene módulos de Python que ayuda a evitar escribir de nuevo comandos muy utilizados. Ejemplos serían: \n",
    "*time: contiene varias funciones relacionadas con el tiempo\n",
    "*math: que contiene funciones matemáticas\n",
    "*re: proporciona expresiones a las que se encuentran en el lenguaje de programación Perl"
   ]
  },
  {
   "cell_type": "markdown",
   "metadata": {},
   "source": [
    "### Ejercicio 1\n",
    "\n",
    "Proporcionad una expresión que asigne el valor `5` a la variable `a_number`, el valor `42.42` a la variable `another_number` i el valor \"`datascience`\" a la variable `a_string`. Debéis proporcionar una única expresión que realice las tres asignaciones. **(1 punt)**"
   ]
  },
  {
   "cell_type": "code",
   "execution_count": 5,
   "metadata": {},
   "outputs": [
    {
     "name": "stdout",
     "output_type": "stream",
     "text": [
      "5\n",
      "42.42\n",
      "datascience\n"
     ]
    }
   ],
   "source": [
    "a_number, another_number, a_string = 5, 42.42, \"datascience\"\n",
    "print(a_number)\n",
    "print(another_number)\n",
    "print(a_string)"
   ]
  },
  {
   "cell_type": "markdown",
   "metadata": {},
   "source": [
    "### Ejercicio 2\n",
    "\n",
    "¿Qué expresión en Python necesitamos para conseguir el _string_ \"onPythonPythonPythonPyPy\" utilizando sólo la palabra \"Python\"? **(1 punt)**"
   ]
  },
  {
   "cell_type": "code",
   "execution_count": 11,
   "metadata": {
    "attributes": {
     "classes": [
      "sourceCode"
     ],
     "id": ""
    }
   },
   "outputs": [
    {
     "name": "stdout",
     "output_type": "stream",
     "text": [
      "onPythonPythonPythonPyPy\n"
     ]
    }
   ],
   "source": [
    "# Respuesta 1\n",
    "string = \"Python\"\n",
    "new_string = string[-2:] + string*3 + (string[:2])*2\n",
    "print(new_string)\n"
   ]
  },
  {
   "cell_type": "code",
   "execution_count": 12,
   "metadata": {},
   "outputs": [
    {
     "data": {
      "text/plain": [
       "'onPythonPythonPythonPyPy'"
      ]
     },
     "execution_count": 12,
     "metadata": {},
     "output_type": "execute_result"
    }
   ],
   "source": [
    "# Respuesta 2 - Opcional\n",
    "# En este caso puedo crear una función y devolver el resultado\n",
    "def str(string):\n",
    "    new_string = string[-2:] + string*3 + (string[:2])*2\n",
    "    return new_string\n",
    "str(\"Python\")"
   ]
  },
  {
   "cell_type": "code",
   "execution_count": 128,
   "metadata": {},
   "outputs": [
    {
     "name": "stdout",
     "output_type": "stream",
     "text": [
      "onPythonPythonPythonPyPy\n"
     ]
    }
   ],
   "source": [
    "x = \"Python\""
   ]
  },
  {
   "cell_type": "markdown",
   "metadata": {},
   "source": [
    "### Ejercicio 3\n",
    "\n",
    "Escribid un programa que asigne dos valores enteros cualquiera (escoged vosotros un número entero aleatorio) a dos variables con nombres `a` y `b`. Utilizad las variables definidas anteriormente para evaluar la siguiente expresión matemática:\n",
    "\n",
    "( a<sup>2</sup> + b<sup>2</sup> ) <sup>2</sup>\n",
    "\n",
    "**(1 punt)**"
   ]
  },
  {
   "cell_type": "code",
   "execution_count": 14,
   "metadata": {
    "attributes": {
     "classes": [
      "sourceCode"
     ],
     "id": ""
    }
   },
   "outputs": [
    {
     "data": {
      "text/plain": [
       "25"
      ]
     },
     "execution_count": 14,
     "metadata": {},
     "output_type": "execute_result"
    }
   ],
   "source": [
    "# Respuesta 1\n",
    "def cuadrados(a,b):\n",
    "    calculo = (a**2 + b**2)**2\n",
    "    return calculo\n",
    "cuadrados(2,1)"
   ]
  },
  {
   "cell_type": "code",
   "execution_count": 15,
   "metadata": {},
   "outputs": [],
   "source": [
    "#cuadrados(2,1)"
   ]
  },
  {
   "cell_type": "markdown",
   "metadata": {},
   "source": [
    "### Ejercicio 4\n",
    "\n",
    "Escribid un programa que calcule el volumen de una esfera de radio `5`. **(1 punt)**"
   ]
  },
  {
   "cell_type": "code",
   "execution_count": 25,
   "metadata": {
    "attributes": {
     "classes": [
      "sourceCode"
     ],
     "id": ""
    }
   },
   "outputs": [
    {
     "data": {
      "text/plain": [
       "523.5987755982989"
      ]
     },
     "execution_count": 25,
     "metadata": {},
     "output_type": "execute_result"
    }
   ],
   "source": [
    "import math\n",
    "def esfera(radio):\n",
    "    volumen = 4/3 * math.pi * radio**3\n",
    "    return volumen\n",
    "esfera(5)"
   ]
  },
  {
   "cell_type": "markdown",
   "metadata": {},
   "source": [
    "### Ejercicio 5\n",
    "\n",
    "Escribid un programa que defina una lista con el nombre de todos los meses del año. Haced que muestre los meses que corresponden al otoño. **(1 punt)**"
   ]
  },
  {
   "cell_type": "code",
   "execution_count": 32,
   "metadata": {
    "attributes": {
     "classes": [
      "sourceCode"
     ],
     "id": ""
    }
   },
   "outputs": [
    {
     "data": {
      "text/plain": [
       "['Septiembre', 'Octubre', 'Noviembre']"
      ]
     },
     "execution_count": 32,
     "metadata": {},
     "output_type": "execute_result"
    }
   ],
   "source": [
    "def meses():\n",
    "    meses_del_ano = [\"Enero\", \"Febrero\", \"Marzo\", \"Abril\", \"Mayo\", \"Junio\", \"Julio\", \"Agosto\", \"Septiembre\", \"Octubre\", \"Noviembre\", \"Diciembre\"]\n",
    "    meses_invierno = meses_del_ano[-1:2]\n",
    "    meses_primavera = meses_del_ano[2:5]\n",
    "    meses_verano = meses_del_ano[5:8]\n",
    "    meses_otono = meses_del_ano[8:11]\n",
    "    return meses_otono\n",
    "meses()"
   ]
  },
  {
   "cell_type": "markdown",
   "metadata": {},
   "source": [
    "### Ejercicio 6\n",
    "\n",
    "Escribid un programa en el cual se defina una agenda telefónica utilizando un _diccionario_. Por ejemplo: Homer Simpson con número de teléfono 1234, Bart Simpson con número de teléfono 5678, etc. Tanto los nombres como los números de teléfono pueden ser completamente ficticios. Mostrad también el número de teléfono correspondiente a cualquiera de las personas definidas en el diccionario utilizando alguno de los métodos de acceso a elementos de un diccionario. **(1 punt)**"
   ]
  },
  {
   "cell_type": "code",
   "execution_count": 5,
   "metadata": {},
   "outputs": [
    {
     "data": {
      "text/plain": [
       "<function __main__.nuevo_contacto()>"
      ]
     },
     "execution_count": 5,
     "metadata": {},
     "output_type": "execute_result"
    }
   ],
   "source": [
    "# Esta agenda permitirá agregar contactos y visualizarlos\n",
    "agenda = dict()\n",
    "# Definimos la función para agregar un contacto\n",
    "def nuevo_contacto():\n",
    "    print(\"Nuevo contacto \\n\")\n",
    "    nombre = input()\n",
    "    telefono = input()\n",
    "nuevo_contacto"
   ]
  },
  {
   "cell_type": "markdown",
   "metadata": {},
   "source": [
    "### Ejercicio 7\n",
    "\n",
    "Escribid un programa que muestre por pantalla una cadena de carácteres con el siguiente formato:\n",
    "\n",
    "```\n",
    "El mes de {nombre_mes} tiene {num_dias} días.\n",
    "```\n",
    "\n",
    "donde los valores de `{nombre_mes}` y `{num_dias}` estaran definidas en dos variables. Por ejemplo: _El mes de **febrero** tiene **28** días._ **(1 punt)**"
   ]
  },
  {
   "cell_type": "code",
   "execution_count": 6,
   "metadata": {},
   "outputs": [
    {
     "data": {
      "text/plain": [
       "'El mes de febrero tiene 28 días'"
      ]
     },
     "execution_count": 6,
     "metadata": {},
     "output_type": "execute_result"
    }
   ],
   "source": [
    "nombre_mes = \"febrero\"\n",
    "num_dias = \"28\"\n",
    "\"El mes de \" + nombre_mes + \" tiene \" + num_dias + \" días\"\n"
   ]
  },
  {
   "cell_type": "markdown",
   "metadata": {},
   "source": [
    "### Ejercicio 8\n",
    "\n",
    "Utilizando el _idiom_ de _list comprehensions_, proporcionad una expresión que devuelva: **(1 punt)**"
   ]
  },
  {
   "cell_type": "markdown",
   "metadata": {},
   "source": [
    "**a)** Una lista de los cuadrados de los números naturales entre 7 y 21:"
   ]
  },
  {
   "cell_type": "code",
   "execution_count": 11,
   "metadata": {},
   "outputs": [
    {
     "name": "stdout",
     "output_type": "stream",
     "text": [
      "[49, 64, 81, 100, 121, 144, 169, 196, 225, 256, 289, 324, 361, 400, 441]\n",
      "[7, 8, 9, 10, 11, 12, 13, 14, 15, 16, 17, 18, 19, 20, 21]\n"
     ]
    }
   ],
   "source": [
    "natural = range(7, 22, 1)\n",
    "lst = [num**2 for num in natural]\n",
    "print(lst)\n",
    "print(list(natural))"
   ]
  },
  {
   "cell_type": "markdown",
   "metadata": {},
   "source": [
    "**b)** Una lista de los cuadrados de los números naturales **impares** entre 7 y 21:"
   ]
  },
  {
   "cell_type": "code",
   "execution_count": 15,
   "metadata": {},
   "outputs": [
    {
     "name": "stdout",
     "output_type": "stream",
     "text": [
      "[7, 9, 11, 13, 15, 17, 19, 21]\n",
      "[49, 81, 121, 169, 225, 289, 361, 441]\n"
     ]
    }
   ],
   "source": [
    "imp = range(7, 22, 2)\n",
    "print(list(imp))\n",
    "lst_impares = [num**2 for num in imp]\n",
    "print(lst_impares)"
   ]
  },
  {
   "cell_type": "markdown",
   "metadata": {},
   "source": [
    "**c)** Una lista de las **vocales** que aparecen en la cadena `s`, manteniendo el orden en el que aparecen:"
   ]
  },
  {
   "cell_type": "code",
   "execution_count": 16,
   "metadata": {},
   "outputs": [
    {
     "name": "stdout",
     "output_type": "stream",
     "text": [
      "['e', 'o', 'o', 'e', 'o', 'o']\n"
     ]
    }
   ],
   "source": [
    "import string\n",
    "s = \"Hello Python, hello world!\"\n",
    "vocales = [\"a\", \"e\", \"i\", \"o\", \"u\"]\n",
    "lst = []\n",
    "letras_s = [lst.append(letter) for letter in s if letter in vocales]\n",
    "print(lst)"
   ]
  },
  {
   "cell_type": "markdown",
   "metadata": {},
   "source": [
    "### Ejercicio Opcional\n",
    "\n",
    "Escribid un programa que genere una lista de números aleatorios y calcule el producto de todos los números de la lista. Los números de la lista deben cumplir la siguiente condición: deben ser números impares entre 0 y 100. Además, el programa deberá preguntar al usuario cuantos elementos debe contener la lista (el usuario introducirá el número de elementos utilizando el teclado) y mostrar un mensaje de error si el usuario pide generar una lista de más de 50 elementos. Haced que el programa muestre la lista generada y el producto de sus elementos."
   ]
  },
  {
   "cell_type": "code",
   "execution_count": 22,
   "metadata": {},
   "outputs": [
    {
     "name": "stdout",
     "output_type": "stream",
     "text": [
      "¿Cuántos números aleatorios? \n",
      "4\n",
      "[0.1197541958467393, 0.056511238460524305, 0.9261415768828204, 0.6987035495708688]\n"
     ]
    }
   ],
   "source": [
    "import random\n",
    "def listarandom(number):\n",
    "    lst = [0] * number\n",
    "    for num in range(number):\n",
    "        lst[num] = random.random()\n",
    "    return lst\n",
    "\n",
    "print(\"¿Cuántos números aleatorios? \")\n",
    "\n",
    "number=int(input())\n",
    "\n",
    "random_numbers=listarandom(number)\n",
    "print(random_numbers)"
   ]
  },
  {
   "cell_type": "raw",
   "metadata": {},
   "source": []
  },
  {
   "cell_type": "markdown",
   "metadata": {},
   "source": [
    "---\n",
    "\n",
    "## Soluciones ejercicios para practicar"
   ]
  },
  {
   "cell_type": "markdown",
   "metadata": {},
   "source": [
    "### Ejercicio 1 \n",
    "\n",
    "Hay diferentes maneras de conseguir el mismo resultado y a continuación vamos a ver algunas de ellas.\n",
    "\n",
    "La primera opción, y quizás la más simple, sería usando las triples comillas dobles (\"\"\" \"\"\"). En Python, las triples comillas dobles se interpretan literalmente y cualquier carácter que incluya nuestra cadena será renderizado tal y como aparece en la cadena. Esto nos puede resultar útil si por ejemplo nuestra cadena incluye comillas simples y comillas dobles. Vamos a ver el código:"
   ]
  },
  {
   "cell_type": "code",
   "execution_count": 1,
   "metadata": {},
   "outputs": [
    {
     "name": "stdout",
     "output_type": "stream",
     "text": [
      "Hello\n",
      "\n",
      "    Python\n"
     ]
    }
   ],
   "source": [
    "print \"\"\"Hello\n",
    "\n",
    "    Python\"\"\""
   ]
  },
  {
   "cell_type": "markdown",
   "metadata": {},
   "source": [
    "La segunda opción incluye el uso de carácteres especiales tal como \"\\n\" y \"\\t\". El primero produce un salto de línea en la salida por pantalla, mientras que el segundo produce un tabulado (TAB). Por lo tanto, nuestro código sería:"
   ]
  },
  {
   "cell_type": "code",
   "execution_count": 2,
   "metadata": {},
   "outputs": [
    {
     "name": "stdout",
     "output_type": "stream",
     "text": [
      "Hello\n",
      "\n",
      "\tPython\n"
     ]
    }
   ],
   "source": [
    "print \"Hello\\n\\n\\tPython\""
   ]
  },
  {
   "cell_type": "markdown",
   "metadata": {},
   "source": [
    "En este caso podemos ver que la indentación de la palabra \"Python\" es superior que en el caso anterior. Esto es debido a que, por defecto, el carácter \\t produce 8 espacios en blanco para \"simular\" la tabulación.\n",
    "\n",
    "Alternativamente, podemos hacer lo siguiente (poner nosotros mismos los espacios en blanco al principio de la línea):"
   ]
  },
  {
   "cell_type": "code",
   "execution_count": 3,
   "metadata": {},
   "outputs": [
    {
     "name": "stdout",
     "output_type": "stream",
     "text": [
      "Hello\n",
      "\n",
      "    Python\n"
     ]
    }
   ],
   "source": [
    "print \"Hello\\n\\n    Python\""
   ]
  },
  {
   "cell_type": "markdown",
   "metadata": {},
   "source": [
    "### Ejercicio 2\n",
    "\n",
    "La forma más fácil de definir un array en Python es utilizando [ ]:"
   ]
  },
  {
   "cell_type": "code",
   "execution_count": 110,
   "metadata": {},
   "outputs": [],
   "source": [
    "dias = ['Lunes', 'Martes', 'Miércoles', 'Jueves', 'Viernes', 'Sábado', 'Domingo']"
   ]
  },
  {
   "cell_type": "markdown",
   "metadata": {},
   "source": [
    "Para acceder a los elementos de un array utilizaremos el mismo operador [], pero especificaremos la posición o índice del elemento al cual queremos acceder. Debemos tener en cuenta que en Python, el primer elemento de una lista tiene índice 0."
   ]
  },
  {
   "cell_type": "code",
   "execution_count": 111,
   "metadata": {},
   "outputs": [
    {
     "name": "stdout",
     "output_type": "stream",
     "text": [
      "Lunes\n",
      "Sábado\n"
     ]
    }
   ],
   "source": [
    "# Primer día de la semana\n",
    "print(dias[0])\n",
    "\n",
    "# Penúltimo día de la semana \n",
    "print(dias[-2])"
   ]
  },
  {
   "cell_type": "markdown",
   "metadata": {},
   "source": [
    "Python nos permite utilizar un índice negativo que contaría des del final del array hacía delante."
   ]
  },
  {
   "cell_type": "markdown",
   "metadata": {},
   "source": [
    "### Ejercicio 3\n",
    "\n",
    "La técnica de _list comprehension_ es la forma especial que tiene Python de iterar una lista y obtener otra lista en una única línea de código. Por ejemplo, si queremos crear una lista con el cuadrado de los 10 primeros números naturales, en Python lo haríamos de la siguiente forma:"
   ]
  },
  {
   "cell_type": "code",
   "execution_count": 3,
   "metadata": {},
   "outputs": [
    {
     "name": "stdout",
     "output_type": "stream",
     "text": [
      "[0, 1, 4, 9, 16, 25, 36, 49, 64, 81]\n"
     ]
    }
   ],
   "source": [
    "naturales = [0, 1, 2, 3, 4, 5, 6, 7, 8, 9]\n",
    "cuadrados = [x*x for x in naturales]\n",
    "print cuadrados"
   ]
  },
  {
   "cell_type": "markdown",
   "metadata": {},
   "source": [
    "Es una forma muy compacta de notación que nos ahorra escribir en un bucle desplegado."
   ]
  }
 ],
 "metadata": {
  "kernelspec": {
   "display_name": "Python 3",
   "language": "python",
   "name": "python3"
  },
  "language_info": {
   "codemirror_mode": {
    "name": "ipython",
    "version": 3
   },
   "file_extension": ".py",
   "mimetype": "text/x-python",
   "name": "python",
   "nbconvert_exporter": "python",
   "pygments_lexer": "ipython3",
   "version": "3.7.3"
  }
 },
 "nbformat": 4,
 "nbformat_minor": 1
}
