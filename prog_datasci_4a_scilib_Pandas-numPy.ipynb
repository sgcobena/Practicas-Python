{
 "cells": [
  {
   "cell_type": "markdown",
   "metadata": {},
   "source": [
    "# Programación para *Data Science*"
   ]
  },
  {
   "cell_type": "markdown",
   "metadata": {},
   "source": [
    "Unidad 4: Librerías científicas en Python\n",
    "------------------------------------------------------"
   ]
  },
  {
   "cell_type": "markdown",
   "metadata": {},
   "source": [
    "Esta Unidad se compone de 4 módulos: Matplotlib, Numpy, pandas y SciPy. A continuación, os proponemos una serie de ejercicios a realizar para cada uno de estos módulos."
   ]
  },
  {
   "cell_type": "markdown",
   "metadata": {},
   "source": [
    "# Ejercicios para practicar\n",
    "\n",
    "**Los siguientes 4 ejercicios** no puntuan para la PEC, pero os recomendamos que los intentéis resolver antes de pasar a los ejercicios propios de la PEC. También podéis encontrar las soluciones a estos ejercicios al final del Notebook.\n"
   ]
  },
  {
   "cell_type": "markdown",
   "metadata": {},
   "source": [
    "### Ejercicio 1\n",
    "Calculad la norma y el determinante de la siguiente matriz: ```[[1, 0], [2, -1]]```."
   ]
  },
  {
   "cell_type": "code",
   "execution_count": 6,
   "metadata": {},
   "outputs": [
    {
     "name": "stdout",
     "output_type": "stream",
     "text": [
      "La matriz es la siguiente: [[ 1  0]\n",
      " [ 2 -1]]\n",
      "La norma de la matriz es:  2.449489742783178\n",
      "El determinante de la matriz es: -1.0\n"
     ]
    }
   ],
   "source": [
    "import numpy as np\n",
    "\n",
    "matriz = np.array([[1, 0], [2, -1]])\n",
    "\n",
    "norma = np.linalg.norm(matriz)\n",
    "determ = np.linalg.det(matriz)\n",
    "\n",
    "print(\"La matriz es la siguiente:\", matriz)\n",
    "print(\"La norma de la matriz es: \", norma)\n",
    "print(\"El determinante de la matriz es:\", determ)"
   ]
  },
  {
   "cell_type": "markdown",
   "metadata": {},
   "source": [
    "### Ejercicio 2 \n",
    "Evaluad las funciones arcoseno y arcocoseno en el intervalo [0,1] y con paso (resolución) de 0.1 y guardadlas en dos _arrays_."
   ]
  },
  {
   "cell_type": "code",
   "execution_count": 7,
   "metadata": {},
   "outputs": [
    {
     "name": "stdout",
     "output_type": "stream",
     "text": [
      "[0.         0.10016742 0.20135792 0.30469265 0.41151685 0.52359878\n",
      " 0.64350111 0.7753975  0.92729522 1.11976951 1.57079633]\n",
      "[1.57079633 1.47062891 1.36943841 1.26610367 1.15927948 1.04719755\n",
      " 0.92729522 0.79539883 0.64350111 0.45102681 0.        ]\n"
     ]
    }
   ],
   "source": [
    "i = np.arange(0., 1.1, 0.1)\n",
    "\n",
    "arc = np.arcsin(i)\n",
    "arcco = np.arccos(i)\n",
    "\n",
    "print(arc)\n",
    "print(arcco)"
   ]
  },
  {
   "cell_type": "markdown",
   "metadata": {},
   "source": [
    "### Ejercicio 4\n",
    "Generad una lista de 100 valores enteros aleatorios de 0-9. Realizad los siguientes cálculos utilizando métodos de _numpy_:\n",
    "- Media y desviación estándar de los valores de la lista\n",
    "- Valor máximo y mínimo\n",
    "- Sumad todos los valores de la lista\n",
    "- Conseguid una lista de valores únicos"
   ]
  },
  {
   "cell_type": "code",
   "execution_count": 11,
   "metadata": {},
   "outputs": [
    {
     "name": "stdout",
     "output_type": "stream",
     "text": [
      "Lista de valores enteros aleatorios: [5, 4, 7, 7, 8, 8, 5, 4, 3, 0, 8, 6, 8, 3, 9, 8, 6, 6, 5, 9, 2, 2, 3, 3, 9, 1, 7, 3, 7, 0, 7, 2, 0, 5, 6, 7, 3, 2, 2, 4, 8, 9, 9, 1, 6, 8, 6, 7, 7, 0, 6, 0, 0, 3, 5, 3, 4, 4, 1, 2, 1, 9, 3, 4, 4, 6, 8, 4, 9, 2, 1, 8, 7, 5, 9, 3, 6, 7, 7, 6, 1, 8, 5, 8, 4, 2, 5, 2, 2, 9, 3, 6, 7, 2, 4, 9, 9, 6, 4, 4]\n",
      "El valor medio es {}, y la desviación estándar es {} (4.92, 2.711752201068527)\n",
      "El valor máximo es {} y el mínimo {} (9, 0)\n",
      "La suma de los valores de la lista es:  492\n",
      "Los valores únicos son:  [0 1 2 3 4 5 6 7 8 9]\n"
     ]
    }
   ],
   "source": [
    "from random import randint\n",
    "\n",
    "random = [randint(0, 9) for i in range(100)]\n",
    "\n",
    "media = np.mean(random)\n",
    "desv_std = np.std(random)\n",
    "\n",
    "maximo = np.max(random)\n",
    "minimo = np.min(random)\n",
    "\n",
    "suma = np.sum(random)\n",
    "\n",
    "uniq = np.unique(random)\n",
    "\n",
    "print(\"Lista de valores enteros aleatorios:\", random)\n",
    "print(\"El valor medio es {}, y la desviación estándar es {}\", (media, desv_std))\n",
    "print(\"El valor máximo es {} y el mínimo {}\", (maximo, minimo))\n",
    "print(\"La suma de los valores de la lista es: \", suma)\n",
    "print(\"Los valores únicos son: \", uniq)"
   ]
  },
  {
   "cell_type": "markdown",
   "metadata": {},
   "source": [
    "# Ejercicios para la actividad 4a\n",
    "\n",
    "A continuación encontraréis los ejercicios que debéis completar en esta actividad y que\n",
    "forman parte de la evaluación de esta unidad: Pandas y NumPy"
   ]
  },
  {
   "cell_type": "markdown",
   "metadata": {},
   "source": [
    "## NumPy - Ejercicios"
   ]
  },
  {
   "cell_type": "markdown",
   "metadata": {},
   "source": [
    "### Ejercicio 1\n",
    "Ordenad la matriz bidimensional ```[[5,1,7], [0,7,4], [7,23,1]]``` por filas utilizando como algoritmo de ordenación el [Merge sort](https://en.wikipedia.org/wiki/Merge_sort). **(0.5 puntos)**\n",
    "\n",
    "**Hint:** No es necesario que implementéis el algoritmo de ordenación a mano, NumPy contiene métodos para realizar diferentes tipos de ordenación sobre diferentes estructuras de datos."
   ]
  },
  {
   "cell_type": "code",
   "execution_count": 12,
   "metadata": {},
   "outputs": [],
   "source": [
    "m = np.array([[5,1,7],\n",
    "              [0,7,4],\n",
    "              [7,23,1]])\n"
   ]
  },
  {
   "cell_type": "markdown",
   "metadata": {},
   "source": [
    "### Ejercicio 2\n",
    "Definid una función que dadas dos matrices, devuelva el valor absoluto de la multiplicación de los determinantes ambas, es decir, dadas A y B, nuestra función devolverá `|det(A) * det(B)|`. **(0.5 puntos)**"
   ]
  },
  {
   "cell_type": "code",
   "execution_count": 14,
   "metadata": {},
   "outputs": [
    {
     "name": "stdout",
     "output_type": "stream",
     "text": [
      "560\n"
     ]
    }
   ],
   "source": [
    "def matrices(A,B):\n",
    "    detA = A[0][0]*A[1][1]-A[0][1]*A[1][0]\n",
    "    detB = B[0][0]*B[1][1]-B[0][1]*B[1][0]\n",
    "    resultado = abs(detA*detB)\n",
    "    print(resultado)\n",
    "x = np.array([[5,1,7],\n",
    "              [0,7,4]])\n",
    "y = np.array([[4,4,67],\n",
    "              [3,7,1]])\n",
    "matrices(x,y)"
   ]
  },
  {
   "cell_type": "markdown",
   "metadata": {},
   "source": [
    "### Ejercicio 3\n",
    "Cread una matriz 10x10 que corresponda con la [matriz identidad](https://es.wikipedia.org/wiki/Matriz_identidad) usando generadores básicos de arrays. Cread una matriz identidad 10x10 (esta vez usando generadores especificos de matrices identidad) y comprobad que ambas matrices son iguales **(0.5 puntos)**\n",
    "\n",
    "**Consideraciones**:\n",
    "- La primera matriz debe crearse usando constructores básicos de arrays, como los presentados en los Notebooks de teoría.\n",
    "* La segunda matriz debe generarse utilizando el generador de matrices identidad de numpy.\n",
    "* La comparación debe devolver True si las matrices son iguales (un único True), False de no ser así."
   ]
  },
  {
   "cell_type": "code",
   "execution_count": 17,
   "metadata": {},
   "outputs": [
    {
     "data": {
      "text/plain": [
       "True"
      ]
     },
     "execution_count": 17,
     "metadata": {},
     "output_type": "execute_result"
    }
   ],
   "source": [
    "a1 = np.array([(1,0,0,0,0,0,0,0,0,0),\n",
    "               (0,1,0,0,0,0,0,0,0,0),\n",
    "               (0,0,1,0,0,0,0,0,0,0),\n",
    "               (0,0,0,1,0,0,0,0,0,0),\n",
    "               (0,0,0,0,1,0,0,0,0,0),\n",
    "               (0,0,0,0,0,1,0,0,0,0),\n",
    "               (0,0,0,0,0,0,1,0,0,0),\n",
    "               (0,0,0,0,0,0,0,1,0,0),\n",
    "               (0,0,0,0,0,0,0,0,1,0),\n",
    "               (0,0,0,0,0,0,0,0,0,1)])\n",
    "a2 = np.eye(10)\n",
    "np.array_equal(a1,a2)"
   ]
  },
  {
   "cell_type": "markdown",
   "metadata": {},
   "source": [
    "### Ejercicio 4\n",
    "Cread una matriz de 2x6 donde los valores de cada posición `(i, j)` correspondan a `i^2+j` para todo `i` par, `i/j^2` para todo `i` impar. **(0.5 puntos)**"
   ]
  },
  {
   "cell_type": "code",
   "execution_count": 23,
   "metadata": {},
   "outputs": [
    {
     "name": "stdout",
     "output_type": "stream",
     "text": [
      "[[  0.   1.   2.   3.   4.   5.]\n",
      " [  1.   0.  -3.  -8. -15. -24.]]\n"
     ]
    }
   ],
   "source": [
    "matriz = np.zeros(2*6).reshape(2,6)\n",
    " \n",
    "for i in range(2):\n",
    "    for j in range(6):\n",
    "        if i%2 == 0:\n",
    "            matriz[i][j] = i**2 + j\n",
    "        else:\n",
    "            matriz[i][j] = i-j**2\n",
    " \n",
    "print(matriz)"
   ]
  },
  {
   "cell_type": "markdown",
   "metadata": {},
   "source": [
    "### Ejercicio 5\n",
    "Cread dos matrices de tamaño 5x5 con números reales aleatorios. Obtened el resultado de multiplicar ambas matrices usando los dos métodos de multiplicación de matrices vistos en el Notebook de teoría. ¿Cuál es la diferencia entre ambos resultados? Cread ahora dos matrices de tamaño 4x5 y 5x5 respectivamente, repetid la operación. Describid cuál de los métodos de multiplicación podéis aplicar y porqué. **(0.5 puntos)**"
   ]
  },
  {
   "cell_type": "code",
   "execution_count": 32,
   "metadata": {},
   "outputs": [
    {
     "name": "stdout",
     "output_type": "stream",
     "text": [
      "[[0.99226323 0.95760122 0.20463902 0.86888326]\n",
      " [0.50336051 0.41161189 0.95110359 0.97519964]\n",
      " [0.65983736 0.08896239 0.69027417 0.57703083]\n",
      " [0.57538627 0.18503982 0.14716103 0.70285673]\n",
      " [0.66720494 0.59162862 0.86597606 0.77500681]]\n"
     ]
    },
    {
     "ename": "ValueError",
     "evalue": "operands could not be broadcast together with shapes (5,4) (5,5) ",
     "output_type": "error",
     "traceback": [
      "\u001b[1;31m---------------------------------------------------------------------------\u001b[0m",
      "\u001b[1;31mValueError\u001b[0m                                Traceback (most recent call last)",
      "\u001b[1;32m<ipython-input-32-29fec901f2c4>\u001b[0m in \u001b[0;36m<module>\u001b[1;34m\u001b[0m\n\u001b[0;32m      9\u001b[0m \u001b[0mprint\u001b[0m\u001b[1;33m(\u001b[0m\u001b[0mC\u001b[0m\u001b[1;33m)\u001b[0m\u001b[1;33m\u001b[0m\u001b[1;33m\u001b[0m\u001b[0m\n\u001b[0;32m     10\u001b[0m \u001b[0mD\u001b[0m \u001b[1;33m=\u001b[0m \u001b[0mnp\u001b[0m\u001b[1;33m.\u001b[0m\u001b[0mrandom\u001b[0m\u001b[1;33m.\u001b[0m\u001b[0mrandom\u001b[0m\u001b[1;33m(\u001b[0m\u001b[1;33m(\u001b[0m\u001b[1;36m5\u001b[0m\u001b[1;33m,\u001b[0m\u001b[1;36m5\u001b[0m\u001b[1;33m)\u001b[0m\u001b[1;33m)\u001b[0m\u001b[1;33m\u001b[0m\u001b[1;33m\u001b[0m\u001b[0m\n\u001b[1;32m---> 11\u001b[1;33m \u001b[0mmult1\u001b[0m \u001b[1;33m=\u001b[0m \u001b[0mnp\u001b[0m\u001b[1;33m.\u001b[0m\u001b[0mmultiply\u001b[0m\u001b[1;33m(\u001b[0m\u001b[0mC\u001b[0m\u001b[1;33m,\u001b[0m\u001b[0mD\u001b[0m\u001b[1;33m)\u001b[0m\u001b[1;33m\u001b[0m\u001b[1;33m\u001b[0m\u001b[0m\n\u001b[0m\u001b[0;32m     12\u001b[0m \u001b[0mmult3\u001b[0m \u001b[1;33m=\u001b[0m \u001b[0mC\u001b[0m\u001b[1;33m*\u001b[0m\u001b[0mD\u001b[0m\u001b[1;33m\u001b[0m\u001b[1;33m\u001b[0m\u001b[0m\n",
      "\u001b[1;31mValueError\u001b[0m: operands could not be broadcast together with shapes (5,4) (5,5) "
     ]
    }
   ],
   "source": [
    "A = np.random.random((5,5))\n",
    "B = np.random.random((5,5))\n",
    "mult = np.multiply(A,B)\n",
    "mult2 = A*B\n",
    "#print(A,B)\n",
    "#print(mult)\n",
    "#print(mult2)\n",
    "C = np.random.random((4,5))\n",
    "print(C)\n",
    "D = np.random.random((5,5))\n",
    "mult1 = np.multiply(C,D) # Este caso da error porque las dimensiones no son compatibles\n",
    "mult3 = C*D"
   ]
  },
  {
   "cell_type": "markdown",
   "metadata": {},
   "source": [
    "## pandas - Ejercicios"
   ]
  },
  {
   "cell_type": "markdown",
   "metadata": {},
   "source": [
    "### Ejercicio 1\n",
    "\n",
    "Cargad los datos del fichero _got.csv_ en un _dataframe_. Este conjunto de datos recoge información de la [Guerra de los Cinco Reyes](https://awoiaf.westeros.org/index.php/War_of_the_Five_Kings) de las novelas de [Cancion de Hielo y Fuego](https://es.wikipedia.org/wiki/Canci%C3%B3n_de_hielo_y_fuego) de George R.R Martin.\n",
    "\n",
    "Mostrad el número de filas del _dataframe_ y las etiquetas de los ejes. **(0.5 puntos)**"
   ]
  },
  {
   "cell_type": "code",
   "execution_count": null,
   "metadata": {},
   "outputs": [],
   "source": []
  },
  {
   "cell_type": "markdown",
   "metadata": {},
   "source": [
    "### Ejercicio 2\n",
    "\n",
    "Agrupad los datos cargados en el ejercicio 1 por el principal bando atacante (*attacker\\_1*). Para cada posición, mostrad el número de batallas y el resultado de la batalla (el resultado se encuentra en el campo *attacker\\_outcome*). **(0.5 puntos)**"
   ]
  },
  {
   "cell_type": "code",
   "execution_count": null,
   "metadata": {},
   "outputs": [],
   "source": [
    "# Respuesta"
   ]
  },
  {
   "cell_type": "markdown",
   "metadata": {},
   "source": [
    "### Ejercicio 3\n",
    "\n",
    "Mostrad los datos de las batallas donde el numero de participantes supera los 15000 \"hombres\" (contando ambos bandos: *attacker\\_size* y *defender\\_size*), el resultado haya sido favorable para el atacante, y la batalla se haya producido en invierno (_summer=0_).\n",
    " **(1 punto)**"
   ]
  },
  {
   "cell_type": "code",
   "execution_count": null,
   "metadata": {},
   "outputs": [],
   "source": [
    "# Respuesta"
   ]
  },
  {
   "cell_type": "markdown",
   "metadata": {},
   "source": [
    "### Ejercicio 4\n",
    "\n",
    "Contad el número de lugares que aparecen más de una vez en _dataframe_ (campo _location_), utilizando las funciones de la librería _pandas_. ¿Existe algún lugar donde se haya realizado más de una batalla? Comprobad qué bandos estaban implicados. **(0.5 puntos)**"
   ]
  },
  {
   "cell_type": "code",
   "execution_count": null,
   "metadata": {},
   "outputs": [],
   "source": [
    "# Respuesta"
   ]
  },
  {
   "cell_type": "markdown",
   "metadata": {},
   "source": [
    "### Ejercicio 5\n",
    "\n",
    "Añadid una nueva columna al _dataframe_ con un valor booleano indicando una predicción básica de si en una cierta batalla el bando atacante será vencedor. Definiremos el valor como _True_ sí el bando atacante es mayor al defensor, y como _False_ en caso contrario. Definid como _NaN_ aquellos casos en los que no haya número de tropas en ningún bando. ¿En que casos, identificados por el número de batalla (*battle\\_number*), nuestra predicción coincide con el resultado real? **(1 punto)**"
   ]
  },
  {
   "cell_type": "code",
   "execution_count": null,
   "metadata": {},
   "outputs": [],
   "source": [
    "# Respuesta"
   ]
  },
  {
   "cell_type": "markdown",
   "metadata": {},
   "source": [
    "# Soluciones a los ejercicios para practicar"
   ]
  },
  {
   "cell_type": "markdown",
   "metadata": {},
   "source": [
    "### Ejercicio 1\n",
    "Calculad la norma y el determinante de la siguiente matriz: ```[[1, 0], [2, -1]]```."
   ]
  },
  {
   "cell_type": "code",
   "execution_count": 5,
   "metadata": {},
   "outputs": [
    {
     "name": "stdout",
     "output_type": "stream",
     "text": [
      "La matriz es la siguiente: [[ 1  0]\n",
      " [ 2 -1]]\n",
      "La norma de la matriz es:  2.449489742783178\n",
      "El determinante de la matriz es: -1.0\n"
     ]
    }
   ],
   "source": [
    "import numpy as np\n",
    "\n",
    "# Creamos la matriz como un array bidimensional\n",
    "m = np.array([[1, 0], [2, -1]])\n",
    "\n",
    "# Y calculamos la normal y el determinante utilizando el módulo linalg\n",
    "norm = np.linalg.norm(m)\n",
    "det = np.linalg.det(m)\n",
    "\n",
    "print \"La matriz m es:\", m\n",
    "print \"La norma de m es: \", norm\n",
    "print \"El determinante de m es:\", det"
   ]
  },
  {
   "cell_type": "markdown",
   "metadata": {},
   "source": [
    "### Ejercicio 2\n",
    "Evaluad las funciones arcoseno y arcocoseno en el intervalo [0,1] y con paso (resolución) de 0.1 y guardadlas en dos arrays."
   ]
  },
  {
   "cell_type": "code",
   "execution_count": 11,
   "metadata": {},
   "outputs": [
    {
     "name": "stdout",
     "output_type": "stream",
     "text": [
      "Arcoseno de x para x entre 0 y 1, con paso 0.1:\n",
      "[0.         0.10016742 0.20135792 0.30469265 0.41151685 0.52359878\n",
      " 0.64350111 0.7753975  0.92729522 1.11976951 1.57079633]\n",
      "Arcocoseno de x para x entre 0 y 1, con paso 0.1:\n",
      "[1.57079633 1.47062891 1.36943841 1.26610367 1.15927948 1.04719755\n",
      " 0.92729522 0.79539883 0.64350111 0.45102681 0.        ]\n"
     ]
    }
   ],
   "source": [
    "import numpy as np\n",
    "\n",
    "# Generamos un vector con valores entre 0 y 1 y con paso 0.1. Para ello utilizamos la función arange,\n",
    "# que funciona de forma análoga a la función range vista en anteriores unidades.\n",
    "x = np.arange(0., 1.1, 0.1)\n",
    "\n",
    "# Calculamos el valor del arcocoseno y del arcoseno por cada valor de x utilizando las funciones arcsin y arccos de numpy\n",
    "arcoseno = np.arcsin(x)\n",
    "arcocoseno = np.arccos(x)\n",
    "\n",
    "print \"Arcoseno de x para x entre 0 y 1, con paso 0.1:\"\n",
    "print arcoseno\n",
    "print \"Arcocoseno de x para x entre 0 y 1, con paso 0.1:\"\n",
    "print arcocoseno\n"
   ]
  },
  {
   "cell_type": "markdown",
   "metadata": {},
   "source": [
    "### Ejercicio 4\n",
    "Generad una lista de 100 valores enteros aleatorios de 0-9. Realizad los siguientes cálculos utilizando métodos de _numpy_:\n",
    "- Media y desviación estándar de los valores de la lista\n",
    "- Valor máximo y mínimo\n",
    "- Sumad todos los valores de la lista\n",
    "- Conseguid una lista de valores únicos"
   ]
  },
  {
   "cell_type": "code",
   "execution_count": 33,
   "metadata": {},
   "outputs": [
    {
     "name": "stdout",
     "output_type": "stream",
     "text": [
      "Nuestra lista de valores aleatorios es: [1, 9, 3, 6, 1, 0, 0, 1, 7, 7, 5, 8, 7, 6, 2, 8, 7, 7, 0, 6, 9, 9, 0, 0, 2, 3, 6, 7, 2, 5, 9, 2, 5, 1, 5, 6, 9, 5, 4, 1, 2, 0, 3, 0, 7, 4, 2, 0, 0, 7, 5, 5, 7, 3, 2, 1, 8, 9, 3, 9, 9, 4, 0, 6, 3, 6, 9, 6, 9, 1, 4, 0, 9, 0, 1, 8, 2, 9, 4, 5, 8, 2, 9, 7, 2, 1, 4, 1, 1, 4, 8, 9, 0, 7, 3, 0, 1, 3, 6, 4]\n",
      "Su valor medio es 4.330000, y su desviación estándar es 3.095335\n",
      "Sus valores máximo y mínimo son, respectivamente: 9 y 0\n",
      "El resultado de la suma de todos los valores de la lista es 433\n",
      "Y la lista de valores únicos es [0 1 2 3 4 5 6 7 8 9]\n"
     ]
    }
   ],
   "source": [
    "from random import randint\n",
    "import numpy as np\n",
    "\n",
    "# Utilizamos la función randint del módulo random y list comprehensions para generar la lista, como ya vimos en\n",
    "# unidades anteriores\n",
    "rand_ints = [randint(0, 9) for _ in range(100)]\n",
    "\n",
    "# Para calcular la media y desviación estándar utilizamos las funciones mean y std (standard deviation) respectivamente\n",
    "m = np.mean(rand_ints)\n",
    "std = np.std(rand_ints)\n",
    "\n",
    "print \"Nuestra lista de valores aleatorios es:\", rand_ints\n",
    "print \"Su valor medio es %f, y su desviación estándar es %f\" %(m, std)\n",
    "\n",
    "# Para valores máximo y mínimo, utilizamos max y min\n",
    "max_val = np.max(rand_ints)\n",
    "min_val = np.min(rand_ints)\n",
    "\n",
    "print \"Sus valores máximo y mínimo son, respectivamente: %d y %d\" %(max_val, min_val)\n",
    "\n",
    "# Para sumar todos los elementos de la lista, la función sum\n",
    "sum_values = np.sum(rand_ints)\n",
    "\n",
    "print \"El resultado de la suma de todos los valores de la lista es\", sum_values \n",
    "\n",
    "# Y finalmente para conseguir una lista de valores únicos, la función unique\n",
    "unique_values = np.unique(rand_ints)\n",
    "\n",
    "print \"Y la lista de valores únicos es\", unique_values\n"
   ]
  }
 ],
 "metadata": {
  "kernelspec": {
   "display_name": "Python 3",
   "language": "python",
   "name": "python3"
  },
  "language_info": {
   "codemirror_mode": {
    "name": "ipython",
    "version": 3
   },
   "file_extension": ".py",
   "mimetype": "text/x-python",
   "name": "python",
   "nbconvert_exporter": "python",
   "pygments_lexer": "ipython3",
   "version": "3.7.3"
  }
 },
 "nbformat": 4,
 "nbformat_minor": 1
}
